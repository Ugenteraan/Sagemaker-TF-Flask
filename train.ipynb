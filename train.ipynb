{
 "cells": [
  {
   "cell_type": "code",
   "execution_count": 13,
   "metadata": {},
   "outputs": [
    {
     "name": "stdout",
     "output_type": "stream",
     "text": [
      "Extracting MNIST_data/train-images-idx3-ubyte.gz\n",
      "Extracting MNIST_data/train-labels-idx1-ubyte.gz\n",
      "Extracting MNIST_data/t10k-images-idx3-ubyte.gz\n",
      "Extracting MNIST_data/t10k-labels-idx1-ubyte.gz\n"
     ]
    }
   ],
   "source": [
    "import tensorflow as tf\n",
    "import numpy as np\n",
    "import os\n",
    "#import MNIST dataset\n",
    "from tensorflow.examples.tutorials.mnist import input_data\n",
    "mnist = input_data.read_data_sets('MNIST_data', one_hot=True)"
   ]
  },
  {
   "cell_type": "code",
   "execution_count": 14,
   "metadata": {},
   "outputs": [],
   "source": [
    "sess = tf.InteractiveSession() #initialize session\n",
    "\n",
    "#input placeholders\n",
    "with tf.name_scope('x'):\n",
    "    x = tf.placeholder(tf.float32, shape=[None, 784], name='x')\n",
    "y_ = tf.placeholder(tf.float32, shape=[None, 10])"
   ]
  },
  {
   "cell_type": "code",
   "execution_count": 15,
   "metadata": {},
   "outputs": [],
   "source": [
    "#function definitions\n",
    "def weight_variable(shape, name):\n",
    "  initial = tf.truncated_normal(shape, stddev=0.1, name=name)\n",
    "  return tf.Variable(initial)\n",
    "\n",
    "def bias_variable(shape, name):\n",
    "  initial = tf.constant(0.1, shape=shape, name=name)\n",
    "  return tf.Variable(initial)\n",
    "\n",
    "def conv2d(x, W, name):\n",
    "  return tf.nn.conv2d(x, W, strides=[1, 1, 1, 1], padding='SAME', name=name)\n",
    "\n",
    "def max_pool_2x2(x,name):\n",
    "  return tf.nn.max_pool(x, ksize=[1, 2, 2, 1],\n",
    "                        strides=[1, 2, 2, 1], padding='SAME', name=name)"
   ]
  },
  {
   "cell_type": "code",
   "execution_count": 16,
   "metadata": {},
   "outputs": [],
   "source": [
    "W_conv1 = weight_variable([5, 5, 1, 32], name='W_C1')\n",
    "b_conv1 = bias_variable([32], name='B_C1')\n",
    "\n",
    "x_image = tf.reshape(x, [-1,28,28,1]) #vectorize the image\n",
    "\n",
    "h_conv1 = tf.nn.relu(conv2d(x_image, W_conv1 , name='conv_1') + b_conv1)\n",
    "h_pool1 = max_pool_2x2(h_conv1, name='pool_1')\n",
    "\n",
    "W_conv2 = weight_variable([5, 5, 32, 64], name='W_C2')\n",
    "b_conv2 = bias_variable([64], name='B_C2')\n",
    "\n",
    "h_conv2 = tf.nn.relu(conv2d(h_pool1, W_conv2, name='conv_2') + b_conv2)\n",
    "h_pool2 = max_pool_2x2(h_conv2, name='pool_2')\n",
    "\n",
    "W_fc1 = weight_variable([7 * 7 * 64, 1024], name='W_FC1')\n",
    "b_fc1 = bias_variable([1024], name='B_FC1')\n",
    "\n",
    "feature_vector = tf.reshape(h_pool2, [-1, 7*7*64])\n",
    "\n",
    "h_fc1 = tf.nn.relu(tf.matmul(feature_vector, W_fc1) + b_fc1, name='FC_1')\n",
    "\n",
    "W_fc2 = weight_variable([1024, 10], name='W_FC2')\n",
    "b_fc2 = bias_variable([10], name='B_FC2')\n",
    "\n",
    "with tf.name_scope('logits'):\n",
    "    logits = tf.add(tf.matmul(h_fc1, W_fc2), b_fc2, name='logits')\n",
    "\n",
    "y = tf.nn.softmax(logits, name='softmax_prediction')\n",
    "\n",
    "cross_entropy = tf.reduce_mean(tf.nn.softmax_cross_entropy_with_logits(labels=y_, logits=logits))\n",
    "train_step = tf.train.AdamOptimizer(1e-4).minimize(cross_entropy)\n",
    "correct_prediction = tf.equal(tf.argmax(logits,1), tf.argmax(y_,1))\n",
    "accuracy = tf.reduce_mean(tf.cast(correct_prediction, tf.float32), name='accuracy')\n",
    "\n",
    "# we only need these two to make inference using the trained model\n",
    "tf.add_to_collection(\"logits\", logits)\n",
    "tf.add_to_collection(\"x\", x)"
   ]
  },
  {
   "cell_type": "code",
   "execution_count": 17,
   "metadata": {},
   "outputs": [],
   "source": [
    "sess.run(tf.global_variables_initializer())\n",
    "saver = tf.train.Saver(tf.global_variables())"
   ]
  },
  {
   "cell_type": "code",
   "execution_count": null,
   "metadata": {
    "scrolled": true
   },
   "outputs": [
    {
     "name": "stdout",
     "output_type": "stream",
     "text": [
      "Step 0, training accuracy 0.08\n"
     ]
    }
   ],
   "source": [
    "for i in range(500):\n",
    "    batch = mnist.train.next_batch(100)\n",
    "    if i%100 == 0:\n",
    "        train_acc = accuracy.eval(feed_dict={\n",
    "            x:batch[0], y_:batch[1]\n",
    "        })\n",
    "        print(\"Step %d, training accuracy %g\"%(i, train_acc))\n",
    "    train_step.run(feed_dict={x:batch[0], y_:batch[1]})\n",
    "\n",
    "current_dir = os.getcwd()\n",
    "saver.save(sess, current_dir + '/model/mnist.ckpt')\n",
    "print(\"Training is finished.\")"
   ]
  }
 ],
 "metadata": {
  "kernelspec": {
   "display_name": "nasa",
   "language": "python",
   "name": "nasa"
  },
  "language_info": {
   "codemirror_mode": {
    "name": "ipython",
    "version": 3
   },
   "file_extension": ".py",
   "mimetype": "text/x-python",
   "name": "python",
   "nbconvert_exporter": "python",
   "pygments_lexer": "ipython3",
   "version": "3.5.2"
  }
 },
 "nbformat": 4,
 "nbformat_minor": 2
}
